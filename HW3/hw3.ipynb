{
 "cells": [
  {
   "cell_type": "code",
   "execution_count": 2,
   "metadata": {},
   "outputs": [],
   "source": [
    "import pandas as pd\n",
    "import numpy as np\n",
    "from surprise import SVD, SlopeOne, KNNBasic\n",
    "from surprise import Dataset, Reader, accuracy\n",
    "from surprise.model_selection import cross_validate\n",
    "import matplotlib.pyplot as plt\n",
    "from scipy.spatial.distance import cdist, cosine, jaccard\n",
    "from sklearn.metrics import accuracy_score\n",
    "from sklearn.model_selection import train_test_split"
   ]
  },
  {
   "cell_type": "code",
   "execution_count": 3,
   "metadata": {},
   "outputs": [
    {
     "data": {
      "text/html": [
       "<div>\n",
       "<style scoped>\n",
       "    .dataframe tbody tr th:only-of-type {\n",
       "        vertical-align: middle;\n",
       "    }\n",
       "\n",
       "    .dataframe tbody tr th {\n",
       "        vertical-align: top;\n",
       "    }\n",
       "\n",
       "    .dataframe thead th {\n",
       "        text-align: right;\n",
       "    }\n",
       "</style>\n",
       "<table border=\"1\" class=\"dataframe\">\n",
       "  <thead>\n",
       "    <tr style=\"text-align: right;\">\n",
       "      <th></th>\n",
       "      <th>0</th>\n",
       "      <th>1</th>\n",
       "      <th>2</th>\n",
       "      <th>3</th>\n",
       "      <th>4</th>\n",
       "      <th>5</th>\n",
       "      <th>6</th>\n",
       "      <th>7</th>\n",
       "      <th>8</th>\n",
       "      <th>9</th>\n",
       "      <th>...</th>\n",
       "      <th>775</th>\n",
       "      <th>776</th>\n",
       "      <th>777</th>\n",
       "      <th>778</th>\n",
       "      <th>779</th>\n",
       "      <th>780</th>\n",
       "      <th>781</th>\n",
       "      <th>782</th>\n",
       "      <th>783</th>\n",
       "      <th>label</th>\n",
       "    </tr>\n",
       "  </thead>\n",
       "  <tbody>\n",
       "    <tr>\n",
       "      <th>0</th>\n",
       "      <td>0</td>\n",
       "      <td>0</td>\n",
       "      <td>0</td>\n",
       "      <td>0</td>\n",
       "      <td>0</td>\n",
       "      <td>0</td>\n",
       "      <td>0</td>\n",
       "      <td>0</td>\n",
       "      <td>0</td>\n",
       "      <td>0</td>\n",
       "      <td>...</td>\n",
       "      <td>0</td>\n",
       "      <td>0</td>\n",
       "      <td>0</td>\n",
       "      <td>0</td>\n",
       "      <td>0</td>\n",
       "      <td>0</td>\n",
       "      <td>0</td>\n",
       "      <td>0</td>\n",
       "      <td>0</td>\n",
       "      <td>7</td>\n",
       "    </tr>\n",
       "    <tr>\n",
       "      <th>1</th>\n",
       "      <td>0</td>\n",
       "      <td>0</td>\n",
       "      <td>0</td>\n",
       "      <td>0</td>\n",
       "      <td>0</td>\n",
       "      <td>0</td>\n",
       "      <td>0</td>\n",
       "      <td>0</td>\n",
       "      <td>0</td>\n",
       "      <td>0</td>\n",
       "      <td>...</td>\n",
       "      <td>0</td>\n",
       "      <td>0</td>\n",
       "      <td>0</td>\n",
       "      <td>0</td>\n",
       "      <td>0</td>\n",
       "      <td>0</td>\n",
       "      <td>0</td>\n",
       "      <td>0</td>\n",
       "      <td>0</td>\n",
       "      <td>2</td>\n",
       "    </tr>\n",
       "    <tr>\n",
       "      <th>2</th>\n",
       "      <td>0</td>\n",
       "      <td>0</td>\n",
       "      <td>0</td>\n",
       "      <td>0</td>\n",
       "      <td>0</td>\n",
       "      <td>0</td>\n",
       "      <td>0</td>\n",
       "      <td>0</td>\n",
       "      <td>0</td>\n",
       "      <td>0</td>\n",
       "      <td>...</td>\n",
       "      <td>0</td>\n",
       "      <td>0</td>\n",
       "      <td>0</td>\n",
       "      <td>0</td>\n",
       "      <td>0</td>\n",
       "      <td>0</td>\n",
       "      <td>0</td>\n",
       "      <td>0</td>\n",
       "      <td>0</td>\n",
       "      <td>1</td>\n",
       "    </tr>\n",
       "    <tr>\n",
       "      <th>3</th>\n",
       "      <td>0</td>\n",
       "      <td>0</td>\n",
       "      <td>0</td>\n",
       "      <td>0</td>\n",
       "      <td>0</td>\n",
       "      <td>0</td>\n",
       "      <td>0</td>\n",
       "      <td>0</td>\n",
       "      <td>0</td>\n",
       "      <td>0</td>\n",
       "      <td>...</td>\n",
       "      <td>0</td>\n",
       "      <td>0</td>\n",
       "      <td>0</td>\n",
       "      <td>0</td>\n",
       "      <td>0</td>\n",
       "      <td>0</td>\n",
       "      <td>0</td>\n",
       "      <td>0</td>\n",
       "      <td>0</td>\n",
       "      <td>0</td>\n",
       "    </tr>\n",
       "    <tr>\n",
       "      <th>4</th>\n",
       "      <td>0</td>\n",
       "      <td>0</td>\n",
       "      <td>0</td>\n",
       "      <td>0</td>\n",
       "      <td>0</td>\n",
       "      <td>0</td>\n",
       "      <td>0</td>\n",
       "      <td>0</td>\n",
       "      <td>0</td>\n",
       "      <td>0</td>\n",
       "      <td>...</td>\n",
       "      <td>0</td>\n",
       "      <td>0</td>\n",
       "      <td>0</td>\n",
       "      <td>0</td>\n",
       "      <td>0</td>\n",
       "      <td>0</td>\n",
       "      <td>0</td>\n",
       "      <td>0</td>\n",
       "      <td>0</td>\n",
       "      <td>4</td>\n",
       "    </tr>\n",
       "    <tr>\n",
       "      <th>...</th>\n",
       "      <td>...</td>\n",
       "      <td>...</td>\n",
       "      <td>...</td>\n",
       "      <td>...</td>\n",
       "      <td>...</td>\n",
       "      <td>...</td>\n",
       "      <td>...</td>\n",
       "      <td>...</td>\n",
       "      <td>...</td>\n",
       "      <td>...</td>\n",
       "      <td>...</td>\n",
       "      <td>...</td>\n",
       "      <td>...</td>\n",
       "      <td>...</td>\n",
       "      <td>...</td>\n",
       "      <td>...</td>\n",
       "      <td>...</td>\n",
       "      <td>...</td>\n",
       "      <td>...</td>\n",
       "      <td>...</td>\n",
       "      <td>...</td>\n",
       "    </tr>\n",
       "    <tr>\n",
       "      <th>9995</th>\n",
       "      <td>0</td>\n",
       "      <td>0</td>\n",
       "      <td>0</td>\n",
       "      <td>0</td>\n",
       "      <td>0</td>\n",
       "      <td>0</td>\n",
       "      <td>0</td>\n",
       "      <td>0</td>\n",
       "      <td>0</td>\n",
       "      <td>0</td>\n",
       "      <td>...</td>\n",
       "      <td>0</td>\n",
       "      <td>0</td>\n",
       "      <td>0</td>\n",
       "      <td>0</td>\n",
       "      <td>0</td>\n",
       "      <td>0</td>\n",
       "      <td>0</td>\n",
       "      <td>0</td>\n",
       "      <td>0</td>\n",
       "      <td>2</td>\n",
       "    </tr>\n",
       "    <tr>\n",
       "      <th>9996</th>\n",
       "      <td>0</td>\n",
       "      <td>0</td>\n",
       "      <td>0</td>\n",
       "      <td>0</td>\n",
       "      <td>0</td>\n",
       "      <td>0</td>\n",
       "      <td>0</td>\n",
       "      <td>0</td>\n",
       "      <td>0</td>\n",
       "      <td>0</td>\n",
       "      <td>...</td>\n",
       "      <td>0</td>\n",
       "      <td>0</td>\n",
       "      <td>0</td>\n",
       "      <td>0</td>\n",
       "      <td>0</td>\n",
       "      <td>0</td>\n",
       "      <td>0</td>\n",
       "      <td>0</td>\n",
       "      <td>0</td>\n",
       "      <td>3</td>\n",
       "    </tr>\n",
       "    <tr>\n",
       "      <th>9997</th>\n",
       "      <td>0</td>\n",
       "      <td>0</td>\n",
       "      <td>0</td>\n",
       "      <td>0</td>\n",
       "      <td>0</td>\n",
       "      <td>0</td>\n",
       "      <td>0</td>\n",
       "      <td>0</td>\n",
       "      <td>0</td>\n",
       "      <td>0</td>\n",
       "      <td>...</td>\n",
       "      <td>0</td>\n",
       "      <td>0</td>\n",
       "      <td>0</td>\n",
       "      <td>0</td>\n",
       "      <td>0</td>\n",
       "      <td>0</td>\n",
       "      <td>0</td>\n",
       "      <td>0</td>\n",
       "      <td>0</td>\n",
       "      <td>4</td>\n",
       "    </tr>\n",
       "    <tr>\n",
       "      <th>9998</th>\n",
       "      <td>0</td>\n",
       "      <td>0</td>\n",
       "      <td>0</td>\n",
       "      <td>0</td>\n",
       "      <td>0</td>\n",
       "      <td>0</td>\n",
       "      <td>0</td>\n",
       "      <td>0</td>\n",
       "      <td>0</td>\n",
       "      <td>0</td>\n",
       "      <td>...</td>\n",
       "      <td>0</td>\n",
       "      <td>0</td>\n",
       "      <td>0</td>\n",
       "      <td>0</td>\n",
       "      <td>0</td>\n",
       "      <td>0</td>\n",
       "      <td>0</td>\n",
       "      <td>0</td>\n",
       "      <td>0</td>\n",
       "      <td>5</td>\n",
       "    </tr>\n",
       "    <tr>\n",
       "      <th>9999</th>\n",
       "      <td>0</td>\n",
       "      <td>0</td>\n",
       "      <td>0</td>\n",
       "      <td>0</td>\n",
       "      <td>0</td>\n",
       "      <td>0</td>\n",
       "      <td>0</td>\n",
       "      <td>0</td>\n",
       "      <td>0</td>\n",
       "      <td>0</td>\n",
       "      <td>...</td>\n",
       "      <td>0</td>\n",
       "      <td>0</td>\n",
       "      <td>0</td>\n",
       "      <td>0</td>\n",
       "      <td>0</td>\n",
       "      <td>0</td>\n",
       "      <td>0</td>\n",
       "      <td>0</td>\n",
       "      <td>0</td>\n",
       "      <td>6</td>\n",
       "    </tr>\n",
       "  </tbody>\n",
       "</table>\n",
       "<p>10000 rows × 785 columns</p>\n",
       "</div>"
      ],
      "text/plain": [
       "      0  1  2  3  4  5  6  7  8  9  ...  775  776  777  778  779  780  781  \\\n",
       "0     0  0  0  0  0  0  0  0  0  0  ...    0    0    0    0    0    0    0   \n",
       "1     0  0  0  0  0  0  0  0  0  0  ...    0    0    0    0    0    0    0   \n",
       "2     0  0  0  0  0  0  0  0  0  0  ...    0    0    0    0    0    0    0   \n",
       "3     0  0  0  0  0  0  0  0  0  0  ...    0    0    0    0    0    0    0   \n",
       "4     0  0  0  0  0  0  0  0  0  0  ...    0    0    0    0    0    0    0   \n",
       "...  .. .. .. .. .. .. .. .. .. ..  ...  ...  ...  ...  ...  ...  ...  ...   \n",
       "9995  0  0  0  0  0  0  0  0  0  0  ...    0    0    0    0    0    0    0   \n",
       "9996  0  0  0  0  0  0  0  0  0  0  ...    0    0    0    0    0    0    0   \n",
       "9997  0  0  0  0  0  0  0  0  0  0  ...    0    0    0    0    0    0    0   \n",
       "9998  0  0  0  0  0  0  0  0  0  0  ...    0    0    0    0    0    0    0   \n",
       "9999  0  0  0  0  0  0  0  0  0  0  ...    0    0    0    0    0    0    0   \n",
       "\n",
       "      782  783  label  \n",
       "0       0    0      7  \n",
       "1       0    0      2  \n",
       "2       0    0      1  \n",
       "3       0    0      0  \n",
       "4       0    0      4  \n",
       "...   ...  ...    ...  \n",
       "9995    0    0      2  \n",
       "9996    0    0      3  \n",
       "9997    0    0      4  \n",
       "9998    0    0      5  \n",
       "9999    0    0      6  \n",
       "\n",
       "[10000 rows x 785 columns]"
      ]
     },
     "execution_count": 3,
     "metadata": {},
     "output_type": "execute_result"
    }
   ],
   "source": [
    "data = pd.read_csv(\"./kmeans_data/data.csv\", header=None)\n",
    "label_data = pd.read_csv(\"./kmeans_data/label.csv\", header=None)\n",
    "\n",
    "df = pd.DataFrame(data)\n",
    "df['label'] = label_data\n",
    "df"
   ]
  },
  {
   "cell_type": "code",
   "execution_count": 47,
   "metadata": {},
   "outputs": [
    {
     "data": {
      "text/plain": [
       "0"
      ]
     },
     "metadata": {},
     "output_type": "display_data"
    },
    {
     "data": {
      "text/plain": [
       "0"
      ]
     },
     "metadata": {},
     "output_type": "display_data"
    },
    {
     "data": {
      "text/plain": [
       "0"
      ]
     },
     "metadata": {},
     "output_type": "display_data"
    },
    {
     "data": {
      "text/plain": [
       "0"
      ]
     },
     "metadata": {},
     "output_type": "display_data"
    },
    {
     "data": {
      "text/plain": [
       "0"
      ]
     },
     "metadata": {},
     "output_type": "display_data"
    },
    {
     "data": {
      "text/plain": [
       "0"
      ]
     },
     "metadata": {},
     "output_type": "display_data"
    },
    {
     "data": {
      "text/plain": [
       "0"
      ]
     },
     "metadata": {},
     "output_type": "display_data"
    },
    {
     "data": {
      "text/plain": [
       "0"
      ]
     },
     "metadata": {},
     "output_type": "display_data"
    },
    {
     "data": {
      "text/plain": [
       "0"
      ]
     },
     "metadata": {},
     "output_type": "display_data"
    },
    {
     "data": {
      "text/plain": [
       "0"
      ]
     },
     "metadata": {},
     "output_type": "display_data"
    },
    {
     "data": {
      "text/plain": [
       "0"
      ]
     },
     "metadata": {},
     "output_type": "display_data"
    },
    {
     "data": {
      "text/plain": [
       "0"
      ]
     },
     "metadata": {},
     "output_type": "display_data"
    },
    {
     "data": {
      "text/plain": [
       "0"
      ]
     },
     "metadata": {},
     "output_type": "display_data"
    },
    {
     "data": {
      "text/plain": [
       "0"
      ]
     },
     "metadata": {},
     "output_type": "display_data"
    },
    {
     "data": {
      "text/plain": [
       "0"
      ]
     },
     "metadata": {},
     "output_type": "display_data"
    },
    {
     "data": {
      "text/plain": [
       "0"
      ]
     },
     "metadata": {},
     "output_type": "display_data"
    },
    {
     "data": {
      "text/plain": [
       "0"
      ]
     },
     "metadata": {},
     "output_type": "display_data"
    },
    {
     "data": {
      "text/plain": [
       "0"
      ]
     },
     "metadata": {},
     "output_type": "display_data"
    },
    {
     "data": {
      "text/plain": [
       "0"
      ]
     },
     "metadata": {},
     "output_type": "display_data"
    },
    {
     "data": {
      "text/plain": [
       "0"
      ]
     },
     "metadata": {},
     "output_type": "display_data"
    },
    {
     "data": {
      "text/plain": [
       "0"
      ]
     },
     "metadata": {},
     "output_type": "display_data"
    },
    {
     "data": {
      "text/plain": [
       "0"
      ]
     },
     "metadata": {},
     "output_type": "display_data"
    },
    {
     "data": {
      "text/plain": [
       "0"
      ]
     },
     "metadata": {},
     "output_type": "display_data"
    },
    {
     "data": {
      "text/plain": [
       "0"
      ]
     },
     "metadata": {},
     "output_type": "display_data"
    },
    {
     "data": {
      "text/plain": [
       "0"
      ]
     },
     "metadata": {},
     "output_type": "display_data"
    },
    {
     "data": {
      "text/plain": [
       "0"
      ]
     },
     "metadata": {},
     "output_type": "display_data"
    },
    {
     "data": {
      "text/plain": [
       "0"
      ]
     },
     "metadata": {},
     "output_type": "display_data"
    },
    {
     "data": {
      "text/plain": [
       "0"
      ]
     },
     "metadata": {},
     "output_type": "display_data"
    },
    {
     "data": {
      "text/plain": [
       "0"
      ]
     },
     "metadata": {},
     "output_type": "display_data"
    },
    {
     "ename": "KeyboardInterrupt",
     "evalue": "",
     "output_type": "error",
     "traceback": [
      "\u001b[1;31m---------------------------------------------------------------------------\u001b[0m",
      "\u001b[1;31mKeyboardInterrupt\u001b[0m                         Traceback (most recent call last)",
      "\u001b[1;32mc:\\CSE 572\\CSE-572\\HW3\\hw3.ipynb Cell 3\u001b[0m line \u001b[0;36m1\n\u001b[0;32m    <a href='vscode-notebook-cell:/c%3A/CSE%20572/CSE-572/HW3/hw3.ipynb#W2sZmlsZQ%3D%3D?line=107'>108</a>\u001b[0m X_train, X_test, y_train, y_test \u001b[39m=\u001b[39m train_test_split(X, y, test_size\u001b[39m=\u001b[39m\u001b[39m0.2\u001b[39m, random_state\u001b[39m=\u001b[39m\u001b[39m42\u001b[39m)\n\u001b[0;32m    <a href='vscode-notebook-cell:/c%3A/CSE%20572/CSE-572/HW3/hw3.ipynb#W2sZmlsZQ%3D%3D?line=109'>110</a>\u001b[0m train_df \u001b[39m=\u001b[39m pd\u001b[39m.\u001b[39mconcat([X_train, y_train], axis\u001b[39m=\u001b[39m\u001b[39m1\u001b[39m)\n\u001b[1;32m--> <a href='vscode-notebook-cell:/c%3A/CSE%20572/CSE-572/HW3/hw3.ipynb#W2sZmlsZQ%3D%3D?line=111'>112</a>\u001b[0m euclidean_centroids, euclidean_sse \u001b[39m=\u001b[39m kmeans(train_df, \u001b[39m3\u001b[39;49m, \u001b[39m\"\u001b[39;49m\u001b[39meuclidean\u001b[39;49m\u001b[39m\"\u001b[39;49m)\n\u001b[0;32m    <a href='vscode-notebook-cell:/c%3A/CSE%20572/CSE-572/HW3/hw3.ipynb#W2sZmlsZQ%3D%3D?line=112'>113</a>\u001b[0m display(\u001b[39mf\u001b[39m\u001b[39m\"\u001b[39m\u001b[39mEuclidean SSE: \u001b[39m\u001b[39m{\u001b[39;00meuclidean_sse\u001b[39m}\u001b[39;00m\u001b[39m\"\u001b[39m)\n\u001b[0;32m    <a href='vscode-notebook-cell:/c%3A/CSE%20572/CSE-572/HW3/hw3.ipynb#W2sZmlsZQ%3D%3D?line=114'>115</a>\u001b[0m cosine_centroids, cosine_sse \u001b[39m=\u001b[39m kmeans(train_df, \u001b[39m3\u001b[39m, \u001b[39m\"\u001b[39m\u001b[39mcosine\u001b[39m\u001b[39m\"\u001b[39m)\n",
      "\u001b[1;32mc:\\CSE 572\\CSE-572\\HW3\\hw3.ipynb Cell 3\u001b[0m line \u001b[0;36m6\n\u001b[0;32m     <a href='vscode-notebook-cell:/c%3A/CSE%20572/CSE-572/HW3/hw3.ipynb#W2sZmlsZQ%3D%3D?line=62'>63</a>\u001b[0m \u001b[39mfor\u001b[39;00m index, row \u001b[39min\u001b[39;00m changed_rows\u001b[39m.\u001b[39miterrows():\n\u001b[0;32m     <a href='vscode-notebook-cell:/c%3A/CSE%20572/CSE-572/HW3/hw3.ipynb#W2sZmlsZQ%3D%3D?line=63'>64</a>\u001b[0m     \u001b[39mfor\u001b[39;00m col \u001b[39min\u001b[39;00m centroids\u001b[39m.\u001b[39mcolumns:\n\u001b[1;32m---> <a href='vscode-notebook-cell:/c%3A/CSE%20572/CSE-572/HW3/hw3.ipynb#W2sZmlsZQ%3D%3D?line=64'>65</a>\u001b[0m         curr_max_diff \u001b[39m=\u001b[39m \u001b[39mmax\u001b[39m(\u001b[39mabs\u001b[39m(row[col] \u001b[39m-\u001b[39m new_centroids\u001b[39m.\u001b[39;49mat[index, col]), curr_max_diff)\n\u001b[0;32m     <a href='vscode-notebook-cell:/c%3A/CSE%20572/CSE-572/HW3/hw3.ipynb#W2sZmlsZQ%3D%3D?line=65'>66</a>\u001b[0m         \u001b[39m'''\u001b[39;00m\n\u001b[0;32m     <a href='vscode-notebook-cell:/c%3A/CSE%20572/CSE-572/HW3/hw3.ipynb#W2sZmlsZQ%3D%3D?line=66'>67</a>\u001b[0m \u001b[39m        if abs(row[col] - new_centroids.at[index, col]) > 1:\u001b[39;00m\n\u001b[0;32m     <a href='vscode-notebook-cell:/c%3A/CSE%20572/CSE-572/HW3/hw3.ipynb#W2sZmlsZQ%3D%3D?line=67'>68</a>\u001b[0m \u001b[39m            print(f\"Row {index}, Column {col} changed from {centroids.at[index, col]} to {new_centroids.at[index, col]}\")\u001b[39;00m\n\u001b[0;32m     <a href='vscode-notebook-cell:/c%3A/CSE%20572/CSE-572/HW3/hw3.ipynb#W2sZmlsZQ%3D%3D?line=68'>69</a>\u001b[0m \u001b[39m        '''\u001b[39;00m\n\u001b[0;32m     <a href='vscode-notebook-cell:/c%3A/CSE%20572/CSE-572/HW3/hw3.ipynb#W2sZmlsZQ%3D%3D?line=70'>71</a>\u001b[0m \u001b[39mif\u001b[39;00m \u001b[39mnot\u001b[39;00m np\u001b[39m.\u001b[39mnot_equal(centroids\u001b[39m.\u001b[39mvalues, new_centroids\u001b[39m.\u001b[39mvalues)\u001b[39m.\u001b[39many():\n",
      "File \u001b[1;32m~\\AppData\\Roaming\\Python\\Python310\\site-packages\\pandas\\core\\indexing.py:2275\u001b[0m, in \u001b[0;36m_AtIndexer.__getitem__\u001b[1;34m(self, key)\u001b[0m\n\u001b[0;32m   2272\u001b[0m         \u001b[39mraise\u001b[39;00m \u001b[39mValueError\u001b[39;00m(\u001b[39m\"\u001b[39m\u001b[39mInvalid call for scalar access (getting)!\u001b[39m\u001b[39m\"\u001b[39m)\n\u001b[0;32m   2273\u001b[0m     \u001b[39mreturn\u001b[39;00m \u001b[39mself\u001b[39m\u001b[39m.\u001b[39mobj\u001b[39m.\u001b[39mloc[key]\n\u001b[1;32m-> 2275\u001b[0m \u001b[39mreturn\u001b[39;00m \u001b[39msuper\u001b[39;49m()\u001b[39m.\u001b[39;49m\u001b[39m__getitem__\u001b[39;49m(key)\n",
      "File \u001b[1;32m~\\AppData\\Roaming\\Python\\Python310\\site-packages\\pandas\\core\\indexing.py:2213\u001b[0m, in \u001b[0;36m_ScalarAccessIndexer.__getitem__\u001b[1;34m(self, key)\u001b[0m\n\u001b[0;32m   2212\u001b[0m \u001b[39mdef\u001b[39;00m \u001b[39m__getitem__\u001b[39m(\u001b[39mself\u001b[39m, key):\n\u001b[1;32m-> 2213\u001b[0m     \u001b[39mif\u001b[39;00m \u001b[39mnot\u001b[39;00m \u001b[39misinstance\u001b[39;49m(key, \u001b[39mtuple\u001b[39;49m):\n\u001b[0;32m   2214\u001b[0m \n\u001b[0;32m   2215\u001b[0m         \u001b[39m# we could have a convertible item here (e.g. Timestamp)\u001b[39;00m\n\u001b[0;32m   2216\u001b[0m         \u001b[39mif\u001b[39;00m \u001b[39mnot\u001b[39;00m is_list_like_indexer(key):\n\u001b[0;32m   2217\u001b[0m             key \u001b[39m=\u001b[39m (key,)\n",
      "\u001b[1;31mKeyboardInterrupt\u001b[0m: "
     ]
    }
   ],
   "source": [
    "def kmeans(data, k, method):\n",
    "    X = data.copy()\n",
    "\n",
    "    # Ensure initial centroids have distinct labels\n",
    "    while True:\n",
    "        '''\n",
    "        indices = np.random.choice(len(X), k, replace=False)\n",
    "        centroids = X.iloc[indices]\n",
    "        '''\n",
    "        centroids = []\n",
    "        centroids.append(X.sample(1).iloc[0])\n",
    "        for _ in range(k - 1):\n",
    "            distances = cdist(X, centroids, metric='euclidean')\n",
    "            min_distances = np.min(distances, axis=1)\n",
    "            next_centroid = X.iloc[np.argmax(min_distances)]\n",
    "            centroids.append(next_centroid)\n",
    "\n",
    "        centroids = pd.DataFrame(centroids)\n",
    "\n",
    "        if centroids['label'].nunique() == k:\n",
    "            break\n",
    "        \n",
    "\n",
    "\n",
    "    assign_to_label = {i: label for i, label in enumerate(centroids['label'])}\n",
    "    centroids = centroids.reset_index(drop=True)\n",
    "\n",
    "\n",
    "    iterations = 0\n",
    "    sse = 0\n",
    "    curr_max_diff = 0\n",
    "    prior_max_diff = 0\n",
    "    priorX = pd.DataFrame()\n",
    "    X_array = X.values[:, :-1]\n",
    "    while True:\n",
    "        centroids_array = centroids.values[:, :-1]\n",
    "\n",
    "        if method == \"euclidean\":\n",
    "            # distances = np.linalg.norm(X.values[:, np.newaxis, :-1] - centroids.values[:, :-1], axis=2)\n",
    "            distances = cdist(X_array, centroids_array, metric='euclidean')\n",
    "        elif method == \"cosine\":\n",
    "            distances = cdist(X_array, centroids_array, metric='cosine')\n",
    "        else:\n",
    "            distances = cdist(X_array, centroids_array, metric='jaccard')\n",
    "\n",
    "        assign = np.argmin(distances, axis=1)\n",
    "        labels = [assign_to_label[i] for i in assign]\n",
    "\n",
    "        X['label'] = labels\n",
    "\n",
    "        new_centroids = X.groupby('label').mean().round(0).astype(int).reset_index()\n",
    "        new_centroids.columns.name = None  # Remove the label from the columns\n",
    "        new_centroids['label'] = new_centroids['label'].astype(int)\n",
    "        new_centroids = pd.concat([new_centroids.drop('label', axis=1), new_centroids['label']], axis=1)\n",
    "\n",
    "        changed_rows = centroids[centroids.ne(new_centroids).any(axis=1)]\n",
    "        # Iterate over changed rows and columns\n",
    "        \n",
    "        for index, row in changed_rows.iterrows():\n",
    "            for col in centroids.columns:\n",
    "                curr_max_diff = max(abs(row[col] - new_centroids.at[index, col]), curr_max_diff)\n",
    "                '''\n",
    "                if abs(row[col] - new_centroids.at[index, col]) > 1:\n",
    "                    print(f\"Row {index}, Column {col} changed from {centroids.at[index, col]} to {new_centroids.at[index, col]}\")\n",
    "                '''\n",
    "\n",
    "        if not np.not_equal(centroids.values, new_centroids.values).any():\n",
    "            display(\"made it\")\n",
    "            break\n",
    "        \n",
    "        '''\n",
    "        if centroids.sort_values(by=list(centroids.columns)).equals(new_centroids.sort_values(by=list(new_centroids.columns))):\n",
    "            display(\"made it\")\n",
    "            break\n",
    "        '''\n",
    "        \n",
    "        '''\n",
    "        if np.allclose(centroids.values, new_centroids.values, atol=150):\n",
    "            break\n",
    "        '''\n",
    "        \n",
    "        '''\n",
    "        if prior_max_diff == curr_max_diff:\n",
    "            break\n",
    "        '''\n",
    "            \n",
    "        prior_max_diff = curr_max_diff\n",
    "        curr_max_diff = 0\n",
    "        \n",
    "        # Calculate SSE\n",
    "        for i, centroid in enumerate(centroids['label']):\n",
    "            cluster_points = X[X['label'] == centroid].iloc[:, :-1]\n",
    "            sse += np.sum((cluster_points.values - centroids.iloc[i, :-1].values) ** 2)\n",
    "\n",
    "\n",
    "        centroids = new_centroids\n",
    "        new_centroids = pd.DataFrame()\n",
    "        iterations += 1\n",
    "\n",
    "    return centroids, sse\n",
    "\n",
    "y = df['label']\n",
    "X = df.drop('label', axis=1)\n",
    "X_train, X_test, y_train, y_test = train_test_split(X, y, test_size=0.2, random_state=42)\n",
    "\n",
    "train_df = pd.concat([X_train, y_train], axis=1)\n",
    "\n",
    "euclidean_centroids, euclidean_sse = kmeans(train_df, 3, \"euclidean\")\n",
    "display(f\"Euclidean SSE: {euclidean_sse}\")\n",
    "\n",
    "cosine_centroids, cosine_sse = kmeans(train_df, 3, \"cosine\")\n",
    "display(f\"Cosine SSE: {cosine_sse}\")\n",
    "\n",
    "jaccard_centroids, jaccard_sse = kmeans(train_df, 3, \"jaccard\")\n",
    "display(f\"Jaccard SSE: {jaccard_sse}\")\n",
    "\n"
   ]
  },
  {
   "cell_type": "code",
   "execution_count": 4,
   "metadata": {},
   "outputs": [
    {
     "data": {
      "text/plain": [
       "'Euclidean Accuracy: 0.178'"
      ]
     },
     "metadata": {},
     "output_type": "display_data"
    },
    {
     "data": {
      "text/plain": [
       "'Cosine Accuracy: 0.2125'"
      ]
     },
     "metadata": {},
     "output_type": "display_data"
    },
    {
     "data": {
      "text/plain": [
       "'Jaccard Accuracy: 0.1205'"
      ]
     },
     "metadata": {},
     "output_type": "display_data"
    }
   ],
   "source": [
    "def kmeans_fit_predict(test_data, centroids, method):\n",
    "    test = test_data.copy()\n",
    "    X_test_array = test.values[:, :-1]\n",
    "    centroids_array = centroids.values[:, :-1]\n",
    "\n",
    "    assign_to_label = {i: label for i, label in enumerate(centroids['label'])}\n",
    "    \n",
    "    if method == \"euclidean\":\n",
    "        distances = cdist(X_test_array, centroids_array, metric='euclidean')\n",
    "    elif method == \"cosine\":\n",
    "        distances = cdist(X_test_array, centroids_array, metric='cosine')\n",
    "    else:\n",
    "        distances = cdist(X_test_array, centroids_array, metric='jaccard')\n",
    "\n",
    "    assign = np.argmin(distances, axis=1)\n",
    "    labels = [assign_to_label[i] for i in assign]\n",
    "    test['pred_label'] = labels\n",
    "\n",
    "    accuracy = accuracy_score(test['label'], test['pred_label'])\n",
    "    return accuracy\n",
    "    \n",
    "\n",
    "test_df = pd.concat([X_test, y_test], axis=1)\n",
    "euclidean_accuracy = kmeans_fit_predict(test_df, euclidean_centroids, \"euclidean\")\n",
    "display(f\"Euclidean Accuracy: {euclidean_accuracy}\")\n",
    "\n",
    "cosine_accuracy = kmeans_fit_predict(test_df, cosine_centroids, \"cosine\")\n",
    "display(f\"Cosine Accuracy: {cosine_accuracy}\")\n",
    "\n",
    "jaccard_accuracy = kmeans_fit_predict(test_df, jaccard_centroids, \"jaccard\")\n",
    "display(f\"Jaccard Accuracy: {jaccard_accuracy}\")\n"
   ]
  },
  {
   "cell_type": "code",
   "execution_count": null,
   "metadata": {},
   "outputs": [],
   "source": [
    "def stop_criteria_kmeans(data, k, method):\n",
    "    X = data.copy()\n",
    "\n",
    "    # Ensure initial centroids have distinct labels\n",
    "    while True:\n",
    "        indices = np.random.choice(len(X), k, replace=False)\n",
    "        centroids = X.iloc[indices]\n",
    "        if centroids['label'].nunique() == k:\n",
    "            break\n",
    "\n",
    "    assign_to_label = {i: label for i, label in enumerate(centroids['label'])}\n",
    "    centroids = centroids.reset_index(drop=True)\n",
    "\n",
    "    iterations = 0\n",
    "    sse = 0\n",
    "    while iterations:\n",
    "        X_array = X.values[:, :-1]\n",
    "        centroids_array = centroids.values[:, :-1]\n",
    "\n",
    "        if method == \"euclidean\":\n",
    "            # distances = np.linalg.norm(X.values[:, np.newaxis, :-1] - centroids.values[:, :-1], axis=2)\n",
    "            distances = cdist(X_array, centroids_array, metric='euclidean')\n",
    "        elif method == \"cosine\":\n",
    "            distances = cdist(X_array, centroids_array, metric='cosine')\n",
    "        else:\n",
    "            distances = cdist(X_array, centroids_array, metric='jaccard')\n",
    "\n",
    "        assign = np.argmin(distances, axis=1)\n",
    "        labels = [assign_to_label[i] for i in assign]\n",
    "        X['label'] = labels\n",
    "\n",
    "        new_centroids = X.groupby('label').mean().round(0).astype(int).reset_index()\n",
    "        new_centroids.columns.name = None  # Remove the label from the columns\n",
    "        new_centroids['label'] = new_centroids['label'].astype(int)\n",
    "        new_centroids = pd.concat([new_centroids.drop('label', axis=1), new_centroids['label']], axis=1)\n",
    "\n",
    "        changed_rows = centroids[centroids.ne(new_centroids).any(axis=1)]\n",
    "        # Iterate over changed rows and columns\n",
    "        \n",
    "        for index, row in changed_rows.iterrows():\n",
    "            for col in centroids.columns:\n",
    "                curr_max_diff = max(abs(row[col] - new_centroids.at[index, col]), curr_max_diff)\n",
    "                '''\n",
    "                if abs(row[col] - new_centroids.at[index, col]) > 1:\n",
    "                    print(f\"Row {index}, Column {col} changed from {centroids.at[index, col]} to {new_centroids.at[index, col]}\")\n",
    "                '''\n",
    "        \n",
    "        '''\n",
    "        if centroids.sort_values(by=list(centroids.columns)).equals(new_centroids.sort_values(by=list(new_centroids.columns))):\n",
    "            break\n",
    "        '''\n",
    "        '''\n",
    "        if np.allclose(centroids.values, new_centroids.values, atol=153):\n",
    "            display(\"made it\")\n",
    "            break\n",
    "        '''\n",
    "    \n",
    "        if prior_max_diff == curr_max_diff:\n",
    "            break\n",
    "            \n",
    "        prior_max_diff = curr_max_diff\n",
    "        curr_max_diff = 0\n",
    "        \n",
    "        # Calculate SSE\n",
    "        for i, centroid in enumerate(centroids['label']):\n",
    "            cluster_points = X[X['label'] == centroid].iloc[:, :-1]\n",
    "            sse += np.sum((cluster_points.values - centroids.iloc[i, :-1].values) ** 2)\n",
    "\n",
    "\n",
    "        centroids = new_centroids\n",
    "        new_centroids = pd.DataFrame()\n",
    "        iterations += 1\n",
    "\n",
    "    return centroids, sse\n",
    "\n",
    "y = df['label']\n",
    "X = df.drop('label', axis=1)\n",
    "X_train, X_test, y_train, y_test = train_test_split(X, y, test_size=0.2, random_state=42)\n",
    "\n",
    "train_df = pd.concat([X_train, y_train], axis=1)\n",
    "\n",
    "euclidean_centroids, euclidean_sse = kmeans(train_df, 3, \"euclidean\")\n",
    "display(f\"Euclidean SSE: {euclidean_sse}\")\n",
    "\n",
    "cosine_centroids, cosine_sse = kmeans(train_df, 3, \"cosine\")\n",
    "display(f\"Cosine SSE: {cosine_sse}\")\n",
    "\n",
    "jaccard_centroids, jaccard_sse = kmeans(train_df, 3, \"jaccard\")\n",
    "display(f\"Jaccard SSE: {jaccard_sse}\")"
   ]
  },
  {
   "cell_type": "code",
   "execution_count": null,
   "metadata": {},
   "outputs": [],
   "source": [
    "# Task 2\n",
    "pd_data = pd.read_csv('ratings_small.csv')\n",
    "df = pd.DataFrame(pd_data)\n",
    "df = df.drop(['timestamp'], axis=1)\n",
    "\n",
    "reader = Reader(rating_scale=(1,5))\n",
    "\n",
    "data = Dataset.load_from_df(df[list(df.columns)], reader)\n",
    "\n",
    "# Uses the famous SVD algorithm. When baselines are not used, this is equivalent to Probabilistic Matrix Factorization https://surprise.readthedocs.io/en/stable/matrix_factorization.html?highlight=matrix\n",
    "pmf = SVD(biased=False)\n",
    "# Slope One uses an Item-Item Based Collaborative Filtering\n",
    "s1 = SlopeOne()\n",
    "# KNN Basic uses an User-User based Collaborative Filtering or an Item-Item Based Collaborative Filtering\n",
    "knn_user = KNNBasic(sim_options={'user_based': True})\n",
    "knn_item = KNNBasic(sim_options={'user_based': False})\n",
    "\n",
    "# Run 5-fold cross-validation and print results.\n",
    "pmf_res = cross_validate(pmf, data, measures=['RMSE', 'MAE'], cv=5, verbose=True) # pmf results\n",
    "\n",
    "knn_user_res = cross_validate(knn_user, data, measures=['RMSE', 'MAE'], cv=5, verbose=True) # knn_user results\n",
    "\n",
    "knn_item_res = cross_validate(knn_item, data, measures=['RMSE', 'MAE'], cv=5, verbose=True) # knn_item results\n",
    "slope_one_res = cross_validate(s1, data, measures=['RMSE', 'MAE'], cv=5, verbose=True) # slope one results"
   ]
  },
  {
   "cell_type": "code",
   "execution_count": null,
   "metadata": {},
   "outputs": [],
   "source": [
    "# Lists to store metric values for plotting\n",
    "ubcf_rmse_values = []\n",
    "ubcf_mae_values = []\n",
    "ibcf_rmse_values = []\n",
    "ibcf_mae_values = []\n",
    "\n",
    "similarity_metrics = ['cosine', 'msd', 'pearson']\n",
    "\n",
    "for metric in similarity_metrics:\n",
    "    # User-based Collaborative Filtering\n",
    "    ubcf_model = KNNBasic(sim_options={'name': metric, 'user_based': True})\n",
    "    ubcf_results = cross_validate(ubcf_model, data, measures=['RMSE', 'MAE'], cv=5, verbose=False)\n",
    "\n",
    "    ubcf_rmse_values.append(np.mean(ubcf_results['test_rmse']))\n",
    "    ubcf_mae_values.append(np.mean(ubcf_results['test_mae']))\n",
    "\n",
    "    # Item-based Collaborative Filtering\n",
    "    ibcf_model = KNNBasic(sim_options={'name': metric, 'user_based': False})\n",
    "    ibcf_results = cross_validate(ibcf_model, data, measures=['RMSE', 'MAE'], cv=5, verbose=False)\n",
    "\n",
    "    ibcf_rmse_values.append(np.mean(ibcf_results['test_rmse']))\n",
    "    ibcf_mae_values.append(np.mean(ibcf_results['test_mae']))"
   ]
  },
  {
   "cell_type": "code",
   "execution_count": null,
   "metadata": {},
   "outputs": [],
   "source": [
    "# Plotting RMSE and MAE side by side\n",
    "fig, ax = plt.subplots()\n",
    "width = 0.35\n",
    "x = np.arange(len(similarity_metrics))\n",
    "\n",
    "# Calculate the x-coordinates for MAE bars (shifted by the bar width)\n",
    "ubcf_rmse_bars = ax.bar(x - width/2, ubcf_rmse_values, width, label='RMSE')\n",
    "ubcf_mae_bars = ax.bar(x + width/2, ubcf_mae_values, width, label='MAE')\n",
    "\n",
    "ax.set_xticks(x)\n",
    "ax.set_xticklabels(similarity_metrics)\n",
    "ax.legend()\n",
    "ax.set_xlabel('Similarity Metric')\n",
    "ax.set_ylabel('Performance Value')\n",
    "ax.set_title('User-based Collaborative Filtering RMSE and MAE with Similarity Metrics')\n",
    "\n",
    "plt.show()\n"
   ]
  },
  {
   "cell_type": "code",
   "execution_count": null,
   "metadata": {},
   "outputs": [],
   "source": [
    "fig, ax = plt.subplots()\n",
    "width = 0.35\n",
    "x = np.arange(len(similarity_metrics))\n",
    "# Calculate the x-coordinates for MAE bars (shifted by the bar width)\n",
    "ibcf_rmse_bars = ax.bar(x - width/2, ibcf_rmse_values, width, label='RMSE')\n",
    "ibcf_mae_bars = ax.bar(x + width/2, ibcf_mae_values, width, label='MAE')\n",
    "\n",
    "ax.set_xticks(x)\n",
    "ax.set_xticklabels(similarity_metrics)\n",
    "ax.legend()\n",
    "ax.set_xlabel('Similarity Metric')\n",
    "ax.set_ylabel('Performance Value')\n",
    "ax.set_title('Item-based Collaborative Filtering RMSE and MAE with Similarity Metrics')\n",
    "\n",
    "plt.show()"
   ]
  },
  {
   "cell_type": "code",
   "execution_count": null,
   "metadata": {},
   "outputs": [],
   "source": [
    "# Lists to store metric values for plotting\n",
    "ubcf_rmse_values = []\n",
    "ubcf_mae_values = []\n",
    "ibcf_rmse_values = []\n",
    "ibcf_mae_values = []\n",
    "\n",
    "for K in range(1, 11):\n",
    "    # User-based Collaborative Filtering\n",
    "    ubcf_model = KNNBasic(k=K, min_k=K, sim_options={'user_based': True})\n",
    "    ubcf_results = cross_validate(ubcf_model, data, measures=['RMSE', 'MAE'], cv=5, verbose=False)\n",
    "\n",
    "    ubcf_rmse_values.append(np.mean(ubcf_results['test_rmse']))\n",
    "    ubcf_mae_values.append(np.mean(ubcf_results['test_mae']))\n",
    "\n",
    "    # Item-based Collaborative Filtering\n",
    "    ibcf_model = KNNBasic(k=K, min_k=K, sim_options={'user_based': False})\n",
    "    ibcf_results = cross_validate(ibcf_model, data, measures=['RMSE', 'MAE'], cv=5, verbose=False)\n",
    "\n",
    "    ibcf_rmse_values.append(np.mean(ibcf_results['test_rmse']))\n",
    "    ibcf_mae_values.append(np.mean(ibcf_results['test_mae']))"
   ]
  },
  {
   "cell_type": "code",
   "execution_count": null,
   "metadata": {},
   "outputs": [],
   "source": [
    "fig, ax = plt.subplots()\n",
    "ax.plot(range(1,11), ubcf_rmse_values, label='RMSE', marker='o')\n",
    "ax.plot(range(1,11), ubcf_mae_values, label='MAE', marker='o')\n",
    "\n",
    "ax.set_xticks(range(1,11))\n",
    "ax.set_xlabel('k')\n",
    "ax.set_ylabel('Performance Value')\n",
    "ax.legend()\n",
    "ax.set_title('User-based Collaborative Filtering RMSE and MAE with Varying K Neighbors')\n",
    "\n",
    "plt.show()"
   ]
  },
  {
   "cell_type": "code",
   "execution_count": null,
   "metadata": {},
   "outputs": [],
   "source": [
    "fig, ax = plt.subplots()\n",
    "ax.plot(range(1,11), ibcf_rmse_values, label='RMSE', marker='o')\n",
    "ax.plot(range(1,11), ibcf_mae_values, label='MAE', marker='o')\n",
    "\n",
    "ax.set_xticks(range(1,11))\n",
    "ax.set_xlabel('k')\n",
    "ax.set_ylabel('Performance Value')\n",
    "ax.legend()\n",
    "ax.set_title('Item-based Collaborative Filtering RMSE and MAE with Varying K Neighbors')\n",
    "\n",
    "plt.show()"
   ]
  }
 ],
 "metadata": {
  "kernelspec": {
   "display_name": "Python 3",
   "language": "python",
   "name": "python3"
  },
  "language_info": {
   "codemirror_mode": {
    "name": "ipython",
    "version": 3
   },
   "file_extension": ".py",
   "mimetype": "text/x-python",
   "name": "python",
   "nbconvert_exporter": "python",
   "pygments_lexer": "ipython3",
   "version": "3.10.4"
  }
 },
 "nbformat": 4,
 "nbformat_minor": 2
}
